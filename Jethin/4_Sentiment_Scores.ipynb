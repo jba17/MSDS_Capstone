{
 "cells": [
  {
   "cell_type": "code",
   "execution_count": 2,
   "metadata": {
    "collapsed": true
   },
   "outputs": [],
   "source": [
    "import pandas as pd\n",
    "\n",
    "import os as os\n",
    "\n",
    "import numpy as np\n",
    "\n",
    "os.chdir(\"/Users/jethin/Google_Drive/Capstone/MSDS_Capstone-master/\")\n",
    "path = '/Users/jethin/Google_Drive/Capstone/MSDS_Capstone-master/data/csv_daily/Bitcoin/d_t/'\n",
    "write_path=\"/Users/jethin/Google_Drive/Capstone/MSDS_Capstone-master/data/BTC_Sent/\"\n",
    "write_score_path = \"/Users/jethin/Google_Drive/Capstone/MSDS_Capstone-master/data/BTC_Score/\""
   ]
  },
  {
   "cell_type": "code",
   "execution_count": 8,
   "metadata": {},
   "outputs": [],
   "source": [
    "for i in os.listdir(path):\n",
    "    \n",
    "\n",
    "    df = pd.read_csv(\"/Users/jethin/Google_Drive/Capstone/MSDS_Capstone-master/data/csv_daily/Bitcoin/daily_sentiment/\"+i)\n",
    "    df[\"created_dt\"]=df.created_at.astype('M8[D]').min()\n",
    "    df.loc[df.vader_sentiment ==\"Negative\",'vader_score'] = -1*df.vader_score;\n",
    "    df.loc[df.vader_sentiment ==\"Neutral\",'vader_score'] = 0;\n",
    "    df.loc[df.subjective <0.5,'text_sentiment_score'] = 0;\n",
    "    date=df.created_dt\n",
    "    vader_score=df.vader_score.mean()\n",
    "    text_score=df[df.text_sentiment_score>0].text_sentiment_score.mean()\n",
    "    df_score = pd.DataFrame({\"created_dt\":date,\"vader_score\":vader_score,\"text_score\":text_score},index=[0])\n",
    "    df_score.set_index('created_dt')\n",
    "    df.to_csv(write_path+i)\n",
    "    with open(write_score_path+\"Sentiment_Scores.txt\", 'a') as f:\n",
    "             (df_score).to_csv(f, header=False)"
   ]
  },
  {
   "cell_type": "code",
   "execution_count": null,
   "metadata": {
    "collapsed": true
   },
   "outputs": [],
   "source": []
  }
 ],
 "metadata": {
  "kernelspec": {
   "display_name": "Python 3",
   "language": "python",
   "name": "python3"
  },
  "language_info": {
   "codemirror_mode": {
    "name": "ipython",
    "version": 3
   },
   "file_extension": ".py",
   "mimetype": "text/x-python",
   "name": "python",
   "nbconvert_exporter": "python",
   "pygments_lexer": "ipython3",
   "version": "3.6.3"
  }
 },
 "nbformat": 4,
 "nbformat_minor": 2
}
