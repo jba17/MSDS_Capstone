{
 "cells": [
  {
   "cell_type": "code",
   "execution_count": 2,
   "metadata": {
    "collapsed": true
   },
   "outputs": [],
   "source": [
    "import os\n",
    "import re\n",
    "\n",
    "\n",
    "class DailyAggr:\n",
    "    \n",
    "    def __init__(self, folder_source, folder_dest):\n",
    "        self.folder_source = folder_source\n",
    "        self.folder_dest = folder_dest\n",
    "    \n",
    "    #extracting list of csv files in folder\n",
    "    def getFiles(self):\n",
    "        path = str(os.getcwd()) + \"/\" + self.folder_source\n",
    "        files = []\n",
    "        reg = re.compile(\"\\d{8}\")\n",
    "        for csv_path in os.listdir(path):\n",
    "            if reg.search(csv_path):\n",
    "                files.append(csv_path)\n",
    "        return files\n",
    "    \n",
    "    #creating list of unique day timestamps\n",
    "    def getDays(self, files):\n",
    "        days = []\n",
    "        for csv_path in files:\n",
    "            day = re.search(\"\\d{8}\",csv_path).group(0)\n",
    "            if day not in days:\n",
    "                days.append(day)\n",
    "        return days\n",
    "    \n",
    "    #appending csv files to single day csv\n",
    "    def aggrDays(self, files, days):\n",
    "        for day in days:\n",
    "            day_path = self.folder_dest + \"/\" + day + \".csv\"\n",
    "            day_file = open(day_path, \"a\")\n",
    "            header = False\n",
    "            \n",
    "            for csv_path in files:\n",
    "                if day in csv_path:\n",
    "                    skip = 1\n",
    "                    csv_file = open(self.folder_source + \"/\" + csv_path)\n",
    "                    \n",
    "                    if (header == False):\n",
    "                        for line in csv_file:\n",
    "                            day_file.write(line)\n",
    "                            header = True\n",
    "                            \n",
    "                    else:\n",
    "                        for line in csv_file:\n",
    "                            if (skip == 0):\n",
    "                                day_file.write(line)\n",
    "                            else:\n",
    "                                skip = 0\n",
    "                    csv_file.close()\n",
    "            day_file.close()"
   ]
  },
  {
   "cell_type": "code",
   "execution_count": 4,
   "metadata": {
    "collapsed": true
   },
   "outputs": [],
   "source": [
    "cryptos = ['ETH']\n",
    "\n",
    "for currency in cryptos:\n",
    "    folder_source = \"data/csv_dumps/\"+currency\n",
    "    folder_dest = \"data/csv_daily/\"+currency\n",
    "\n",
    "    obj = DailyAggr(folder_source, folder_dest)\n",
    "    files = obj.getFiles()\n",
    "    days = obj.getDays(files)\n",
    "    obj.aggrDays(files, days)"
   ]
  },
  {
   "cell_type": "code",
   "execution_count": null,
   "metadata": {
    "collapsed": true
   },
   "outputs": [],
   "source": []
  }
 ],
 "metadata": {
  "kernelspec": {
   "display_name": "Python 3",
   "language": "python",
   "name": "python3"
  },
  "language_info": {
   "codemirror_mode": {
    "name": "ipython",
    "version": 3
   },
   "file_extension": ".py",
   "mimetype": "text/x-python",
   "name": "python",
   "nbconvert_exporter": "python",
   "pygments_lexer": "ipython3",
   "version": "3.6.3"
  }
 },
 "nbformat": 4,
 "nbformat_minor": 2
}
